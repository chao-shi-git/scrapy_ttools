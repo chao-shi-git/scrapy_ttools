{
 "cells": [
  {
   "cell_type": "code",
   "execution_count": 6,
   "metadata": {},
   "outputs": [
    {
     "data": {
      "text/plain": [
       "u'/Users/chao/git_proj/scrapy_ttools'"
      ]
     },
     "execution_count": 6,
     "metadata": {},
     "output_type": "execute_result"
    }
   ],
   "source": [
    "pwd"
   ]
  },
  {
   "cell_type": "code",
   "execution_count": 7,
   "metadata": {},
   "outputs": [
    {
     "name": "stdout",
     "output_type": "stream",
     "text": [
      "/Users/chao/git_proj/scrapy_ttools/data_safe\n"
     ]
    }
   ],
   "source": [
    "cd data_safe/"
   ]
  },
  {
   "cell_type": "code",
   "execution_count": 8,
   "metadata": {},
   "outputs": [
    {
     "name": "stdout",
     "output_type": "stream",
     "text": [
      "twitchtools_channels.csv      twitchtools_teams.csv\r\n",
      "twitchtools_channelsinfo.csv  twitchtools_teamsinfo.csv\r\n"
     ]
    }
   ],
   "source": [
    "ls"
   ]
  },
  {
   "cell_type": "code",
   "execution_count": 9,
   "metadata": {
    "collapsed": true
   },
   "outputs": [],
   "source": [
    "# import packages\n",
    "import numpy as np\n",
    "import pandas as pd\n",
    "import re\n"
   ]
  },
  {
   "cell_type": "code",
   "execution_count": 10,
   "metadata": {
    "collapsed": true
   },
   "outputs": [],
   "source": [
    "# with open(\"twitchtools_channels.csv\", \"r\") as f:          # created for spider 2 to loop over urls\n",
    "#     channels = pd.read_csv(f)\n",
    "with open(\"twitchtools_channelsinfo.csv\", \"r\") as f:\n",
    "    channelsinfo = pd.read_csv(f)\n",
    "with open(\"twitchtools_teams.csv\", \"r\") as f:\n",
    "    teams = pd.read_csv(f)\n",
    "with open(\"twitchtools_teamsinfo.csv\", \"r\") as f:\n",
    "    teamsinfo = pd.read_csv(f)"
   ]
  },
  {
   "cell_type": "code",
   "execution_count": 11,
   "metadata": {},
   "outputs": [
    {
     "data": {
      "text/html": [
       "<div>\n",
       "<table border=\"1\" class=\"dataframe\">\n",
       "  <thead>\n",
       "    <tr style=\"text-align: right;\">\n",
       "      <th></th>\n",
       "      <th>twitch_partner_flag</th>\n",
       "      <th>page_url</th>\n",
       "      <th>display_name</th>\n",
       "      <th>account_updated_date</th>\n",
       "      <th>teams_joined</th>\n",
       "      <th>last_game</th>\n",
       "      <th>channel_followers</th>\n",
       "      <th>account_unique_id</th>\n",
       "      <th>twitch_url</th>\n",
       "      <th>channel_views</th>\n",
       "      <th>mature_flag</th>\n",
       "      <th>account_created_date</th>\n",
       "    </tr>\n",
       "  </thead>\n",
       "  <tbody>\n",
       "    <tr>\n",
       "      <th>0</th>\n",
       "      <td>Yes</td>\n",
       "      <td>https://www.twitchtools.com/channel/janowicz</td>\n",
       "      <td>Janowicz</td>\n",
       "      <td>April 29, 2017, 13:35 GMT+0000</td>\n",
       "      <td>Polskie Strumyki</td>\n",
       "      <td>Counter-Strike: Global Offensive</td>\n",
       "      <td>51,924</td>\n",
       "      <td>106953429</td>\n",
       "      <td>https://www.twitch.tv/janowicz</td>\n",
       "      <td>608,225</td>\n",
       "      <td>No</td>\n",
       "      <td>November 13, 2015, 01:21 GMT+0000</td>\n",
       "    </tr>\n",
       "    <tr>\n",
       "      <th>1</th>\n",
       "      <td>Yes</td>\n",
       "      <td>https://www.twitchtools.com/channel/solorenekt...</td>\n",
       "      <td>SoloRenektonOnly</td>\n",
       "      <td>April 29, 2017, 14:35 GMT+0000</td>\n",
       "      <td>did not join any team</td>\n",
       "      <td>League of Legends</td>\n",
       "      <td>51,832</td>\n",
       "      <td>30227322</td>\n",
       "      <td>https://www.twitch.tv/solorenektononly</td>\n",
       "      <td>2,130,376</td>\n",
       "      <td>No</td>\n",
       "      <td>May 2, 2012, 18:43 GMT+0000</td>\n",
       "    </tr>\n",
       "    <tr>\n",
       "      <th>2</th>\n",
       "      <td>Yes</td>\n",
       "      <td>https://www.twitchtools.com/channel/mirage720</td>\n",
       "      <td>미라지오빠</td>\n",
       "      <td>April 29, 2017, 16:05 GMT+0000</td>\n",
       "      <td>did not join any team</td>\n",
       "      <td>Talk Shows</td>\n",
       "      <td>51,826</td>\n",
       "      <td>137724090</td>\n",
       "      <td>https://www.twitch.tv/mirage720</td>\n",
       "      <td>1,111,559</td>\n",
       "      <td>No</td>\n",
       "      <td>October 23, 2016, 11:54 GMT+0000</td>\n",
       "    </tr>\n",
       "    <tr>\n",
       "      <th>3</th>\n",
       "      <td>Yes</td>\n",
       "      <td>https://www.twitchtools.com/channel/cnotbusch</td>\n",
       "      <td>cnotbusch</td>\n",
       "      <td>April 29, 2017, 11:04 GMT+0000</td>\n",
       "      <td>Creeper Crew;Creators;Game Artists</td>\n",
       "      <td>For Honor</td>\n",
       "      <td>51,770</td>\n",
       "      <td>25999696</td>\n",
       "      <td>https://www.twitch.tv/cnotbusch</td>\n",
       "      <td>3,894,469</td>\n",
       "      <td>No</td>\n",
       "      <td>November 8, 2011, 01:36 GMT+0000</td>\n",
       "    </tr>\n",
       "    <tr>\n",
       "      <th>4</th>\n",
       "      <td>Yes</td>\n",
       "      <td>https://www.twitchtools.com/channel/gruntartv</td>\n",
       "      <td>GruntarTV</td>\n",
       "      <td>April 29, 2017, 14:02 GMT+0000</td>\n",
       "      <td>Keep Gaming</td>\n",
       "      <td>Dungeons &amp; Dragons</td>\n",
       "      <td>51,761</td>\n",
       "      <td>20572303</td>\n",
       "      <td>https://www.twitch.tv/gruntartv</td>\n",
       "      <td>3,971,528</td>\n",
       "      <td>No</td>\n",
       "      <td>February 19, 2011, 17:59 GMT+0000</td>\n",
       "    </tr>\n",
       "  </tbody>\n",
       "</table>\n",
       "</div>"
      ],
      "text/plain": [
       "  twitch_partner_flag                                           page_url  \\\n",
       "0                 Yes       https://www.twitchtools.com/channel/janowicz   \n",
       "1                 Yes  https://www.twitchtools.com/channel/solorenekt...   \n",
       "2                 Yes      https://www.twitchtools.com/channel/mirage720   \n",
       "3                 Yes      https://www.twitchtools.com/channel/cnotbusch   \n",
       "4                 Yes      https://www.twitchtools.com/channel/gruntartv   \n",
       "\n",
       "       display_name            account_updated_date  \\\n",
       "0          Janowicz  April 29, 2017, 13:35 GMT+0000   \n",
       "1  SoloRenektonOnly  April 29, 2017, 14:35 GMT+0000   \n",
       "2             미라지오빠  April 29, 2017, 16:05 GMT+0000   \n",
       "3         cnotbusch  April 29, 2017, 11:04 GMT+0000   \n",
       "4         GruntarTV  April 29, 2017, 14:02 GMT+0000   \n",
       "\n",
       "                         teams_joined                         last_game  \\\n",
       "0                    Polskie Strumyki  Counter-Strike: Global Offensive   \n",
       "1               did not join any team                 League of Legends   \n",
       "2               did not join any team                        Talk Shows   \n",
       "3  Creeper Crew;Creators;Game Artists                         For Honor   \n",
       "4                         Keep Gaming                Dungeons & Dragons   \n",
       "\n",
       "  channel_followers  account_unique_id  \\\n",
       "0            51,924          106953429   \n",
       "1            51,832           30227322   \n",
       "2            51,826          137724090   \n",
       "3            51,770           25999696   \n",
       "4            51,761           20572303   \n",
       "\n",
       "                               twitch_url channel_views mature_flag  \\\n",
       "0          https://www.twitch.tv/janowicz       608,225          No   \n",
       "1  https://www.twitch.tv/solorenektononly     2,130,376          No   \n",
       "2         https://www.twitch.tv/mirage720     1,111,559          No   \n",
       "3         https://www.twitch.tv/cnotbusch     3,894,469          No   \n",
       "4         https://www.twitch.tv/gruntartv     3,971,528          No   \n",
       "\n",
       "                account_created_date  \n",
       "0  November 13, 2015, 01:21 GMT+0000  \n",
       "1        May 2, 2012, 18:43 GMT+0000  \n",
       "2   October 23, 2016, 11:54 GMT+0000  \n",
       "3   November 8, 2011, 01:36 GMT+0000  \n",
       "4  February 19, 2011, 17:59 GMT+0000  "
      ]
     },
     "execution_count": 11,
     "metadata": {},
     "output_type": "execute_result"
    }
   ],
   "source": [
    "# print channelsinfo.dtypes\n",
    "# print channelsinfo.describe()\n",
    "channelsinfo.head()"
   ]
  },
  {
   "cell_type": "code",
   "execution_count": 12,
   "metadata": {},
   "outputs": [],
   "source": [
    "engid = channelsinfo.twitch_url.str.replace('https://www.twitch.tv/','')   # str.replace is different from pd.replace\n",
    "channelsinfo = channelsinfo.assign(engid=engid.values)"
   ]
  },
  {
   "cell_type": "code",
   "execution_count": 13,
   "metadata": {},
   "outputs": [
    {
     "name": "stderr",
     "output_type": "stream",
     "text": [
      "/Users/chao/anaconda/lib/python2.7/site-packages/ipykernel/__main__.py:2: SettingWithCopyWarning: \n",
      "A value is trying to be set on a copy of a slice from a DataFrame\n",
      "\n",
      "See the caveats in the documentation: http://pandas.pydata.org/pandas-docs/stable/indexing.html#indexing-view-versus-copy\n",
      "  from ipykernel import kernelapp as app\n",
      "/Users/chao/anaconda/lib/python2.7/site-packages/ipykernel/__main__.py:3: SettingWithCopyWarning: \n",
      "A value is trying to be set on a copy of a slice from a DataFrame\n",
      "\n",
      "See the caveats in the documentation: http://pandas.pydata.org/pandas-docs/stable/indexing.html#indexing-view-versus-copy\n",
      "  app.launch_new_instance()\n",
      "/Users/chao/anaconda/lib/python2.7/site-packages/ipykernel/__main__.py:4: SettingWithCopyWarning: \n",
      "A value is trying to be set on a copy of a slice from a DataFrame\n",
      "\n",
      "See the caveats in the documentation: http://pandas.pydata.org/pandas-docs/stable/indexing.html#indexing-view-versus-copy\n",
      "/Users/chao/anaconda/lib/python2.7/site-packages/ipykernel/__main__.py:5: SettingWithCopyWarning: \n",
      "A value is trying to be set on a copy of a slice from a DataFrame\n",
      "\n",
      "See the caveats in the documentation: http://pandas.pydata.org/pandas-docs/stable/indexing.html#indexing-view-versus-copy\n"
     ]
    }
   ],
   "source": [
    "# change to boolean\n",
    "channelsinfo.twitch_partner_flag[channelsinfo.twitch_partner_flag == 'Yes'] = True\n",
    "channelsinfo.twitch_partner_flag[channelsinfo.twitch_partner_flag == 'No']  = False\n",
    "channelsinfo.mature_flag[channelsinfo.mature_flag == 'Yes'] = True\n",
    "channelsinfo.mature_flag[channelsinfo.mature_flag == 'No']  = False\n",
    "channelsinfo.twitch_partner_flag.describe()\n",
    "# dates are still desired\n",
    "\n",
    "# change to int\n",
    "channelsinfo.channel_followers = map(lambda s: int(\"\".join(s.split(','))), channelsinfo.channel_followers)\n",
    "channelsinfo.channel_views     = map(lambda s: int(\"\".join(s.split(','))), channelsinfo.channel_views)"
   ]
  },
  {
   "cell_type": "code",
   "execution_count": 14,
   "metadata": {},
   "outputs": [
    {
     "data": {
      "text/html": [
       "<div>\n",
       "<table border=\"1\" class=\"dataframe\">\n",
       "  <thead>\n",
       "    <tr style=\"text-align: right;\">\n",
       "      <th></th>\n",
       "      <th>twitch_partner_flag</th>\n",
       "      <th>page_url</th>\n",
       "      <th>display_name</th>\n",
       "      <th>account_updated_date</th>\n",
       "      <th>teams_joined</th>\n",
       "      <th>last_game</th>\n",
       "      <th>channel_followers</th>\n",
       "      <th>account_unique_id</th>\n",
       "      <th>twitch_url</th>\n",
       "      <th>channel_views</th>\n",
       "      <th>mature_flag</th>\n",
       "      <th>account_created_date</th>\n",
       "      <th>engid</th>\n",
       "    </tr>\n",
       "  </thead>\n",
       "  <tbody>\n",
       "    <tr>\n",
       "      <th>0</th>\n",
       "      <td>True</td>\n",
       "      <td>https://www.twitchtools.com/channel/janowicz</td>\n",
       "      <td>Janowicz</td>\n",
       "      <td>April 29, 2017, 13:35 GMT+0000</td>\n",
       "      <td>Polskie Strumyki</td>\n",
       "      <td>Counter-Strike: Global Offensive</td>\n",
       "      <td>51924</td>\n",
       "      <td>106953429</td>\n",
       "      <td>https://www.twitch.tv/janowicz</td>\n",
       "      <td>608225</td>\n",
       "      <td>False</td>\n",
       "      <td>November 13, 2015, 01:21 GMT+0000</td>\n",
       "      <td>janowicz</td>\n",
       "    </tr>\n",
       "    <tr>\n",
       "      <th>1</th>\n",
       "      <td>True</td>\n",
       "      <td>https://www.twitchtools.com/channel/solorenekt...</td>\n",
       "      <td>SoloRenektonOnly</td>\n",
       "      <td>April 29, 2017, 14:35 GMT+0000</td>\n",
       "      <td>did not join any team</td>\n",
       "      <td>League of Legends</td>\n",
       "      <td>51832</td>\n",
       "      <td>30227322</td>\n",
       "      <td>https://www.twitch.tv/solorenektononly</td>\n",
       "      <td>2130376</td>\n",
       "      <td>False</td>\n",
       "      <td>May 2, 2012, 18:43 GMT+0000</td>\n",
       "      <td>solorenektononly</td>\n",
       "    </tr>\n",
       "    <tr>\n",
       "      <th>2</th>\n",
       "      <td>True</td>\n",
       "      <td>https://www.twitchtools.com/channel/mirage720</td>\n",
       "      <td>미라지오빠</td>\n",
       "      <td>April 29, 2017, 16:05 GMT+0000</td>\n",
       "      <td>did not join any team</td>\n",
       "      <td>Talk Shows</td>\n",
       "      <td>51826</td>\n",
       "      <td>137724090</td>\n",
       "      <td>https://www.twitch.tv/mirage720</td>\n",
       "      <td>1111559</td>\n",
       "      <td>False</td>\n",
       "      <td>October 23, 2016, 11:54 GMT+0000</td>\n",
       "      <td>mirage720</td>\n",
       "    </tr>\n",
       "    <tr>\n",
       "      <th>3</th>\n",
       "      <td>True</td>\n",
       "      <td>https://www.twitchtools.com/channel/cnotbusch</td>\n",
       "      <td>cnotbusch</td>\n",
       "      <td>April 29, 2017, 11:04 GMT+0000</td>\n",
       "      <td>Creeper Crew;Creators;Game Artists</td>\n",
       "      <td>For Honor</td>\n",
       "      <td>51770</td>\n",
       "      <td>25999696</td>\n",
       "      <td>https://www.twitch.tv/cnotbusch</td>\n",
       "      <td>3894469</td>\n",
       "      <td>False</td>\n",
       "      <td>November 8, 2011, 01:36 GMT+0000</td>\n",
       "      <td>cnotbusch</td>\n",
       "    </tr>\n",
       "    <tr>\n",
       "      <th>4</th>\n",
       "      <td>True</td>\n",
       "      <td>https://www.twitchtools.com/channel/gruntartv</td>\n",
       "      <td>GruntarTV</td>\n",
       "      <td>April 29, 2017, 14:02 GMT+0000</td>\n",
       "      <td>Keep Gaming</td>\n",
       "      <td>Dungeons &amp; Dragons</td>\n",
       "      <td>51761</td>\n",
       "      <td>20572303</td>\n",
       "      <td>https://www.twitch.tv/gruntartv</td>\n",
       "      <td>3971528</td>\n",
       "      <td>False</td>\n",
       "      <td>February 19, 2011, 17:59 GMT+0000</td>\n",
       "      <td>gruntartv</td>\n",
       "    </tr>\n",
       "  </tbody>\n",
       "</table>\n",
       "</div>"
      ],
      "text/plain": [
       "  twitch_partner_flag                                           page_url  \\\n",
       "0                True       https://www.twitchtools.com/channel/janowicz   \n",
       "1                True  https://www.twitchtools.com/channel/solorenekt...   \n",
       "2                True      https://www.twitchtools.com/channel/mirage720   \n",
       "3                True      https://www.twitchtools.com/channel/cnotbusch   \n",
       "4                True      https://www.twitchtools.com/channel/gruntartv   \n",
       "\n",
       "       display_name            account_updated_date  \\\n",
       "0          Janowicz  April 29, 2017, 13:35 GMT+0000   \n",
       "1  SoloRenektonOnly  April 29, 2017, 14:35 GMT+0000   \n",
       "2             미라지오빠  April 29, 2017, 16:05 GMT+0000   \n",
       "3         cnotbusch  April 29, 2017, 11:04 GMT+0000   \n",
       "4         GruntarTV  April 29, 2017, 14:02 GMT+0000   \n",
       "\n",
       "                         teams_joined                         last_game  \\\n",
       "0                    Polskie Strumyki  Counter-Strike: Global Offensive   \n",
       "1               did not join any team                 League of Legends   \n",
       "2               did not join any team                        Talk Shows   \n",
       "3  Creeper Crew;Creators;Game Artists                         For Honor   \n",
       "4                         Keep Gaming                Dungeons & Dragons   \n",
       "\n",
       "   channel_followers  account_unique_id  \\\n",
       "0              51924          106953429   \n",
       "1              51832           30227322   \n",
       "2              51826          137724090   \n",
       "3              51770           25999696   \n",
       "4              51761           20572303   \n",
       "\n",
       "                               twitch_url  channel_views mature_flag  \\\n",
       "0          https://www.twitch.tv/janowicz         608225       False   \n",
       "1  https://www.twitch.tv/solorenektononly        2130376       False   \n",
       "2         https://www.twitch.tv/mirage720        1111559       False   \n",
       "3         https://www.twitch.tv/cnotbusch        3894469       False   \n",
       "4         https://www.twitch.tv/gruntartv        3971528       False   \n",
       "\n",
       "                account_created_date             engid  \n",
       "0  November 13, 2015, 01:21 GMT+0000          janowicz  \n",
       "1        May 2, 2012, 18:43 GMT+0000  solorenektononly  \n",
       "2   October 23, 2016, 11:54 GMT+0000         mirage720  \n",
       "3   November 8, 2011, 01:36 GMT+0000         cnotbusch  \n",
       "4  February 19, 2011, 17:59 GMT+0000         gruntartv  "
      ]
     },
     "execution_count": 14,
     "metadata": {},
     "output_type": "execute_result"
    }
   ],
   "source": [
    "channelsinfo.head()"
   ]
  },
  {
   "cell_type": "code",
   "execution_count": 15,
   "metadata": {},
   "outputs": [
    {
     "data": {
      "text/plain": [
       "0                                         Polskie Strumyki\n",
       "1                                                         \n",
       "2                                                         \n",
       "3                       Creeper Crew;Creators;Game Artists\n",
       "4                                              Keep Gaming\n",
       "5                                                         \n",
       "6                                              Tempo Storm\n",
       "7        HyperX;Team Gates;The Ninja Dojo;DuMaCia Gamin...\n",
       "8                                                         \n",
       "9                                                         \n",
       "10                                            Planet Dolan\n",
       "11                                                        \n",
       "12                                                        \n",
       "13                            Ronku;TwitchRaid;GamerSaloon\n",
       "14       SpeedRunsLive;Team Ludendi;Speed Demos Archive...\n",
       "15                                        Game And Play TV\n",
       "16                                              Good Ideas\n",
       "17                                                        \n",
       "18                                                        \n",
       "19                  Team Liquid;Team PokerStars;TeamJivaro\n",
       "20                                             squidboards\n",
       "21                                                     USB\n",
       "22                                                        \n",
       "23                                                        \n",
       "24                                          RussianGirls:D\n",
       "25                             GamerHuset;Danske Streamers\n",
       "26                                                        \n",
       "27                                                        \n",
       "28                                                 GamSter\n",
       "29                                                O'Gaming\n",
       "                               ...                        \n",
       "14423                                                     \n",
       "14424          League of Legends Championship S;Riot Games\n",
       "14425                                     1G SQUAD;Corsair\n",
       "14426    ESL Gaming;CS:GO Professional Player Stream;ES...\n",
       "14427                                      The Round Table\n",
       "14428                                                     \n",
       "14429    The Hammer Squad;Team ORIGIN PC;Survivor GameZ...\n",
       "14430    The Hammer Squad;Best Team NA;Polaris;Serious ...\n",
       "14431                                              SoloMid\n",
       "14432                                              Mianite\n",
       "14433                                              SoloMid\n",
       "14434                                            The Ducks\n",
       "14435                  Ronku;The Dapper Crew;PUBG Partners\n",
       "14436                                              SoloMid\n",
       "14437                                                     \n",
       "14438                                       HyperX;SoloMid\n",
       "14439              Counter Logic Gaming;Team Gates;Team 2G\n",
       "14440    DreamHackTV;DreamHack Counter-Strike GO;DreamHack\n",
       "14441                                                     \n",
       "14442                                       SoloMid;noLife\n",
       "14443                    SpeedRunsLive;Speed Demos Archive\n",
       "14444                                         Ronku;GameOn\n",
       "14445                                                     \n",
       "14446                                              SoloMid\n",
       "14447                                               Cloud9\n",
       "14448                                                     \n",
       "14449    The Midnight Crew;Cloud9;CS:GO Professional Pl...\n",
       "14450                                              SoloMid\n",
       "14451                                    Luminosity Gaming\n",
       "14452                                                     \n",
       "Name: teams_joined, dtype: object"
      ]
     },
     "execution_count": 15,
     "metadata": {},
     "output_type": "execute_result"
    }
   ],
   "source": [
    "channelsinfo.teams_joined.str.replace('did not join any team','')\n",
    "channelsinfo.teams_joined = channelsinfo.teams_joined.str.replace('did not join any team','')\n",
    "channelsinfo.teams_joined"
   ]
  },
  {
   "cell_type": "code",
   "execution_count": 16,
   "metadata": {},
   "outputs": [
    {
     "name": "stdout",
     "output_type": "stream",
     "text": [
      " Swedish Meatballs\n"
     ]
    },
    {
     "data": {
      "text/plain": [
       "'Swedish Meatballs'"
      ]
     },
     "execution_count": 16,
     "metadata": {},
     "output_type": "execute_result"
    }
   ],
   "source": [
    "print teamsinfo.team_name[1608]\n",
    "teamsinfo.team_name = teamsinfo.team_name.str.strip()   #teamsinfo.team_name[1608]\n",
    "teamsinfo.team_name[1608]"
   ]
  },
  {
   "cell_type": "code",
   "execution_count": 64,
   "metadata": {
    "scrolled": false
   },
   "outputs": [
    {
     "name": "stdout",
     "output_type": "stream",
     "text": [
      "did not find this group\n",
      "did not find this group\n",
      "did not find this group\n"
     ]
    }
   ],
   "source": [
    "S = channelsinfo.teams_joined\n",
    "S.head()\n",
    "\n",
    "c2g = pd.DataFrame([],[], columns=list('cg'))\n",
    "for i,s in enumerate(S):\n",
    "    if s:\n",
    "        gl = s.split(';')\n",
    "        n  = len(gl)\n",
    "        #print gl\n",
    "\n",
    "#         print i\n",
    "#         print gi\n",
    "#         print gl\n",
    "        gl_i = []\n",
    "        for g in gl:\n",
    "\n",
    "            try:\n",
    "                dummy = teamsinfo.team_name[teamsinfo.team_name == g].index[0]\n",
    "#                 print dummy\n",
    "                gl_i.append(dummy)\n",
    "#                 print gl_i\n",
    "            except:\n",
    "#                 print gi\n",
    "#                 print gl\n",
    "                print (\"did not find this group\")\n",
    "#                 print g\n",
    "                pass\n",
    "#             print(gl_i)\n",
    "#             print 'complete %d' % i\n",
    "        \n",
    "        # here form the (ci, gi) pair\n",
    "        # ci = i, gi = gl_i\n",
    "#         print [i] * len(gl_i)\n",
    "#         print gl_i\n",
    "        ci = [i] * len(gl_i)\n",
    "        dff = pd.DataFrame({'c':ci, 'g':gl_i})\n",
    "        c2g = c2g.append(dff)\n",
    "\n",
    "        \n",
    "        \n",
    "        #gi = [teamsinfo.team_name[teamsinfo.team_name == g].index[0] for g in gl]\n",
    "\n",
    "            \n",
    "    \n",
    "    "
   ]
  },
  {
   "cell_type": "code",
   "execution_count": 76,
   "metadata": {},
   "outputs": [
    {
     "data": {
      "text/html": [
       "<div>\n",
       "<table border=\"1\" class=\"dataframe\">\n",
       "  <thead>\n",
       "    <tr style=\"text-align: right;\">\n",
       "      <th></th>\n",
       "      <th>c</th>\n",
       "      <th>g</th>\n",
       "    </tr>\n",
       "  </thead>\n",
       "  <tbody>\n",
       "    <tr>\n",
       "      <th>0</th>\n",
       "      <td>0</td>\n",
       "      <td>2112</td>\n",
       "    </tr>\n",
       "    <tr>\n",
       "      <th>1</th>\n",
       "      <td>3</td>\n",
       "      <td>1865</td>\n",
       "    </tr>\n",
       "    <tr>\n",
       "      <th>2</th>\n",
       "      <td>3</td>\n",
       "      <td>2097</td>\n",
       "    </tr>\n",
       "    <tr>\n",
       "      <th>3</th>\n",
       "      <td>3</td>\n",
       "      <td>1814</td>\n",
       "    </tr>\n",
       "    <tr>\n",
       "      <th>4</th>\n",
       "      <td>4</td>\n",
       "      <td>1470</td>\n",
       "    </tr>\n",
       "    <tr>\n",
       "      <th>5</th>\n",
       "      <td>6</td>\n",
       "      <td>2106</td>\n",
       "    </tr>\n",
       "    <tr>\n",
       "      <th>6</th>\n",
       "      <td>7</td>\n",
       "      <td>2101</td>\n",
       "    </tr>\n",
       "    <tr>\n",
       "      <th>7</th>\n",
       "      <td>7</td>\n",
       "      <td>1817</td>\n",
       "    </tr>\n",
       "    <tr>\n",
       "      <th>8</th>\n",
       "      <td>7</td>\n",
       "      <td>1353</td>\n",
       "    </tr>\n",
       "    <tr>\n",
       "      <th>9</th>\n",
       "      <td>7</td>\n",
       "      <td>1756</td>\n",
       "    </tr>\n",
       "    <tr>\n",
       "      <th>10</th>\n",
       "      <td>7</td>\n",
       "      <td>1844</td>\n",
       "    </tr>\n",
       "    <tr>\n",
       "      <th>11</th>\n",
       "      <td>7</td>\n",
       "      <td>1951</td>\n",
       "    </tr>\n",
       "    <tr>\n",
       "      <th>12</th>\n",
       "      <td>10</td>\n",
       "      <td>222</td>\n",
       "    </tr>\n",
       "    <tr>\n",
       "      <th>13</th>\n",
       "      <td>13</td>\n",
       "      <td>2135</td>\n",
       "    </tr>\n",
       "    <tr>\n",
       "      <th>14</th>\n",
       "      <td>13</td>\n",
       "      <td>2117</td>\n",
       "    </tr>\n",
       "    <tr>\n",
       "      <th>15</th>\n",
       "      <td>13</td>\n",
       "      <td>434</td>\n",
       "    </tr>\n",
       "    <tr>\n",
       "      <th>16</th>\n",
       "      <td>14</td>\n",
       "      <td>2111</td>\n",
       "    </tr>\n",
       "    <tr>\n",
       "      <th>17</th>\n",
       "      <td>14</td>\n",
       "      <td>2134</td>\n",
       "    </tr>\n",
       "    <tr>\n",
       "      <th>18</th>\n",
       "      <td>14</td>\n",
       "      <td>2124</td>\n",
       "    </tr>\n",
       "    <tr>\n",
       "      <th>19</th>\n",
       "      <td>14</td>\n",
       "      <td>2109</td>\n",
       "    </tr>\n",
       "    <tr>\n",
       "      <th>20</th>\n",
       "      <td>14</td>\n",
       "      <td>2036</td>\n",
       "    </tr>\n",
       "    <tr>\n",
       "      <th>21</th>\n",
       "      <td>15</td>\n",
       "      <td>1757</td>\n",
       "    </tr>\n",
       "    <tr>\n",
       "      <th>22</th>\n",
       "      <td>16</td>\n",
       "      <td>1794</td>\n",
       "    </tr>\n",
       "    <tr>\n",
       "      <th>23</th>\n",
       "      <td>19</td>\n",
       "      <td>2092</td>\n",
       "    </tr>\n",
       "    <tr>\n",
       "      <th>24</th>\n",
       "      <td>19</td>\n",
       "      <td>1916</td>\n",
       "    </tr>\n",
       "    <tr>\n",
       "      <th>25</th>\n",
       "      <td>19</td>\n",
       "      <td>1501</td>\n",
       "    </tr>\n",
       "    <tr>\n",
       "      <th>26</th>\n",
       "      <td>20</td>\n",
       "      <td>1080</td>\n",
       "    </tr>\n",
       "    <tr>\n",
       "      <th>27</th>\n",
       "      <td>21</td>\n",
       "      <td>1557</td>\n",
       "    </tr>\n",
       "    <tr>\n",
       "      <th>28</th>\n",
       "      <td>24</td>\n",
       "      <td>1261</td>\n",
       "    </tr>\n",
       "    <tr>\n",
       "      <th>29</th>\n",
       "      <td>25</td>\n",
       "      <td>194</td>\n",
       "    </tr>\n",
       "    <tr>\n",
       "      <th>...</th>\n",
       "      <td>...</td>\n",
       "      <td>...</td>\n",
       "    </tr>\n",
       "    <tr>\n",
       "      <th>9994</th>\n",
       "      <td>14430</td>\n",
       "      <td>2018</td>\n",
       "    </tr>\n",
       "    <tr>\n",
       "      <th>9995</th>\n",
       "      <td>14431</td>\n",
       "      <td>2072</td>\n",
       "    </tr>\n",
       "    <tr>\n",
       "      <th>9996</th>\n",
       "      <td>14432</td>\n",
       "      <td>1171</td>\n",
       "    </tr>\n",
       "    <tr>\n",
       "      <th>9997</th>\n",
       "      <td>14433</td>\n",
       "      <td>2072</td>\n",
       "    </tr>\n",
       "    <tr>\n",
       "      <th>9998</th>\n",
       "      <td>14434</td>\n",
       "      <td>492</td>\n",
       "    </tr>\n",
       "    <tr>\n",
       "      <th>9999</th>\n",
       "      <td>14435</td>\n",
       "      <td>2135</td>\n",
       "    </tr>\n",
       "    <tr>\n",
       "      <th>10000</th>\n",
       "      <td>14435</td>\n",
       "      <td>1807</td>\n",
       "    </tr>\n",
       "    <tr>\n",
       "      <th>10001</th>\n",
       "      <td>14435</td>\n",
       "      <td>2123</td>\n",
       "    </tr>\n",
       "    <tr>\n",
       "      <th>10002</th>\n",
       "      <td>14436</td>\n",
       "      <td>2072</td>\n",
       "    </tr>\n",
       "    <tr>\n",
       "      <th>10003</th>\n",
       "      <td>14438</td>\n",
       "      <td>2101</td>\n",
       "    </tr>\n",
       "    <tr>\n",
       "      <th>10004</th>\n",
       "      <td>14438</td>\n",
       "      <td>2072</td>\n",
       "    </tr>\n",
       "    <tr>\n",
       "      <th>10005</th>\n",
       "      <td>14439</td>\n",
       "      <td>2065</td>\n",
       "    </tr>\n",
       "    <tr>\n",
       "      <th>10006</th>\n",
       "      <td>14439</td>\n",
       "      <td>1817</td>\n",
       "    </tr>\n",
       "    <tr>\n",
       "      <th>10007</th>\n",
       "      <td>14439</td>\n",
       "      <td>712</td>\n",
       "    </tr>\n",
       "    <tr>\n",
       "      <th>10008</th>\n",
       "      <td>14440</td>\n",
       "      <td>1986</td>\n",
       "    </tr>\n",
       "    <tr>\n",
       "      <th>10009</th>\n",
       "      <td>14440</td>\n",
       "      <td>1095</td>\n",
       "    </tr>\n",
       "    <tr>\n",
       "      <th>10010</th>\n",
       "      <td>14440</td>\n",
       "      <td>1824</td>\n",
       "    </tr>\n",
       "    <tr>\n",
       "      <th>10011</th>\n",
       "      <td>14442</td>\n",
       "      <td>2072</td>\n",
       "    </tr>\n",
       "    <tr>\n",
       "      <th>10012</th>\n",
       "      <td>14442</td>\n",
       "      <td>1384</td>\n",
       "    </tr>\n",
       "    <tr>\n",
       "      <th>10013</th>\n",
       "      <td>14443</td>\n",
       "      <td>2111</td>\n",
       "    </tr>\n",
       "    <tr>\n",
       "      <th>10014</th>\n",
       "      <td>14443</td>\n",
       "      <td>2124</td>\n",
       "    </tr>\n",
       "    <tr>\n",
       "      <th>10015</th>\n",
       "      <td>14444</td>\n",
       "      <td>2135</td>\n",
       "    </tr>\n",
       "    <tr>\n",
       "      <th>10016</th>\n",
       "      <td>14444</td>\n",
       "      <td>1109</td>\n",
       "    </tr>\n",
       "    <tr>\n",
       "      <th>10017</th>\n",
       "      <td>14446</td>\n",
       "      <td>2072</td>\n",
       "    </tr>\n",
       "    <tr>\n",
       "      <th>10018</th>\n",
       "      <td>14447</td>\n",
       "      <td>2094</td>\n",
       "    </tr>\n",
       "    <tr>\n",
       "      <th>10019</th>\n",
       "      <td>14449</td>\n",
       "      <td>1985</td>\n",
       "    </tr>\n",
       "    <tr>\n",
       "      <th>10020</th>\n",
       "      <td>14449</td>\n",
       "      <td>2094</td>\n",
       "    </tr>\n",
       "    <tr>\n",
       "      <th>10021</th>\n",
       "      <td>14449</td>\n",
       "      <td>2120</td>\n",
       "    </tr>\n",
       "    <tr>\n",
       "      <th>10022</th>\n",
       "      <td>14450</td>\n",
       "      <td>2072</td>\n",
       "    </tr>\n",
       "    <tr>\n",
       "      <th>10023</th>\n",
       "      <td>14451</td>\n",
       "      <td>2037</td>\n",
       "    </tr>\n",
       "  </tbody>\n",
       "</table>\n",
       "<p>10024 rows × 2 columns</p>\n",
       "</div>"
      ],
      "text/plain": [
       "           c     g\n",
       "0          0  2112\n",
       "1          3  1865\n",
       "2          3  2097\n",
       "3          3  1814\n",
       "4          4  1470\n",
       "5          6  2106\n",
       "6          7  2101\n",
       "7          7  1817\n",
       "8          7  1353\n",
       "9          7  1756\n",
       "10         7  1844\n",
       "11         7  1951\n",
       "12        10   222\n",
       "13        13  2135\n",
       "14        13  2117\n",
       "15        13   434\n",
       "16        14  2111\n",
       "17        14  2134\n",
       "18        14  2124\n",
       "19        14  2109\n",
       "20        14  2036\n",
       "21        15  1757\n",
       "22        16  1794\n",
       "23        19  2092\n",
       "24        19  1916\n",
       "25        19  1501\n",
       "26        20  1080\n",
       "27        21  1557\n",
       "28        24  1261\n",
       "29        25   194\n",
       "...      ...   ...\n",
       "9994   14430  2018\n",
       "9995   14431  2072\n",
       "9996   14432  1171\n",
       "9997   14433  2072\n",
       "9998   14434   492\n",
       "9999   14435  2135\n",
       "10000  14435  1807\n",
       "10001  14435  2123\n",
       "10002  14436  2072\n",
       "10003  14438  2101\n",
       "10004  14438  2072\n",
       "10005  14439  2065\n",
       "10006  14439  1817\n",
       "10007  14439   712\n",
       "10008  14440  1986\n",
       "10009  14440  1095\n",
       "10010  14440  1824\n",
       "10011  14442  2072\n",
       "10012  14442  1384\n",
       "10013  14443  2111\n",
       "10014  14443  2124\n",
       "10015  14444  2135\n",
       "10016  14444  1109\n",
       "10017  14446  2072\n",
       "10018  14447  2094\n",
       "10019  14449  1985\n",
       "10020  14449  2094\n",
       "10021  14449  2120\n",
       "10022  14450  2072\n",
       "10023  14451  2037\n",
       "\n",
       "[10024 rows x 2 columns]"
      ]
     },
     "execution_count": 76,
     "metadata": {},
     "output_type": "execute_result"
    }
   ],
   "source": [
    "c2g = c2g.reset_index(drop=True).astype(int)\n",
    "\n",
    "c2g"
   ]
  },
  {
   "cell_type": "code",
   "execution_count": 78,
   "metadata": {
    "collapsed": true
   },
   "outputs": [],
   "source": [
    "c2g.to_csv('testc2g.csv')\n",
    "channelsinfo.to_csv('channelsinfo_clean.csv')"
   ]
  },
  {
   "cell_type": "code",
   "execution_count": 59,
   "metadata": {},
   "outputs": [
    {
     "data": {
      "text/html": [
       "<div>\n",
       "<table border=\"1\" class=\"dataframe\">\n",
       "  <thead>\n",
       "    <tr style=\"text-align: right;\">\n",
       "      <th></th>\n",
       "      <th>c</th>\n",
       "      <th>g</th>\n",
       "    </tr>\n",
       "  </thead>\n",
       "  <tbody>\n",
       "  </tbody>\n",
       "</table>\n",
       "</div>"
      ],
      "text/plain": [
       "Empty DataFrame\n",
       "Columns: [c, g]\n",
       "Index: []"
      ]
     },
     "execution_count": 59,
     "metadata": {},
     "output_type": "execute_result"
    }
   ],
   "source": [
    "pd.DataFrame([],[], columns=list('cg'))"
   ]
  },
  {
   "cell_type": "code",
   "execution_count": 58,
   "metadata": {},
   "outputs": [
    {
     "name": "stdout",
     "output_type": "stream",
     "text": [
      "Empty DataFrame\n",
      "Columns: [A, B]\n",
      "Index: []\n",
      "   A   B\n",
      "0  1  30\n",
      "1  3  40\n",
      "2  4  50\n"
     ]
    },
    {
     "ename": "TypeError",
     "evalue": "append() got an unexpected keyword argument 'dtype'",
     "output_type": "error",
     "traceback": [
      "\u001b[0;31m---------------------------------------------------------------------------\u001b[0m",
      "\u001b[0;31mTypeError\u001b[0m                                 Traceback (most recent call last)",
      "\u001b[0;32m<ipython-input-58-2a0b6dbfc433>\u001b[0m in \u001b[0;36m<module>\u001b[0;34m()\u001b[0m\n\u001b[1;32m     13\u001b[0m \u001b[0;32mprint\u001b[0m \u001b[0mdf\u001b[0m\u001b[0;34m\u001b[0m\u001b[0m\n\u001b[1;32m     14\u001b[0m \u001b[0;32mprint\u001b[0m \u001b[0mdf2\u001b[0m\u001b[0;34m\u001b[0m\u001b[0m\n\u001b[0;32m---> 15\u001b[0;31m \u001b[0mdf\u001b[0m\u001b[0;34m.\u001b[0m\u001b[0mappend\u001b[0m\u001b[0;34m(\u001b[0m\u001b[0mdf2\u001b[0m\u001b[0;34m,\u001b[0m \u001b[0mdtype\u001b[0m\u001b[0;34m=\u001b[0m\u001b[0;34m'int32'\u001b[0m\u001b[0;34m)\u001b[0m\u001b[0;34m\u001b[0m\u001b[0m\n\u001b[0m",
      "\u001b[0;31mTypeError\u001b[0m: append() got an unexpected keyword argument 'dtype'"
     ]
    }
   ],
   "source": [
    "import pandas as pd\n",
    "a = []\n",
    "a.extend([1])\n",
    "a\n",
    "\n",
    "b = [2101, 1817, 1353, 1756, 1844, 1951]\n",
    "i = 5\n",
    "\n",
    "df  = pd.DataFrame([],[], columns=list('AB'),dtype='int32')\n",
    "df2 = pd.DataFrame({'A': [1,3,4], 'B': [30,40,50]})\n",
    "\n",
    "# df2 = pd.DataFrame([1,3,4],[30,40,50])\n",
    "print df\n",
    "print df2\n",
    "df.append(df2, dtype='int32')"
   ]
  },
  {
   "cell_type": "code",
   "execution_count": 65,
   "metadata": {},
   "outputs": [
    {
     "name": "stdout",
     "output_type": "stream",
     "text": [
      "1605            Supremes Network\n",
      "1606                       Blink\n",
      "1607          Mario Kart Players\n",
      "1608           Swedish Meatballs\n",
      "1609    Combros Stream Community\n",
      "1610                     Rated G\n",
      "1611        Playing Ducks e.V. ®\n",
      "1612                 JuiceGaming\n",
      "1613                   ReSync.TV\n",
      "1614            Twitch Musicians\n",
      "Name: team_name, dtype: object\n"
     ]
    },
    {
     "data": {
      "text/plain": [
       "' Swedish Meatballs'"
      ]
     },
     "execution_count": 65,
     "metadata": {},
     "output_type": "execute_result"
    }
   ],
   "source": [
    "# teamsinfo.team_name[teamsinfo.team_name == 'Swedish Meatballs'].index[0]\n",
    "print teamsinfo.team_name[1605:1615]\n",
    "\n",
    "teamsinfo.team_name[1608]"
   ]
  },
  {
   "cell_type": "code",
   "execution_count": 51,
   "metadata": {},
   "outputs": [
    {
     "data": {
      "text/plain": [
       "2065"
      ]
     },
     "execution_count": 51,
     "metadata": {},
     "output_type": "execute_result"
    }
   ],
   "source": [
    "teamsinfo.head()\n",
    "dummy = teamsinfo.team_name\n",
    "dummy[dummy == 'Counter Logic Gaming'].index[0]"
   ]
  },
  {
   "cell_type": "code",
   "execution_count": 48,
   "metadata": {},
   "outputs": [
    {
     "data": {
      "text/plain": [
       "array([2, 2, 2])"
      ]
     },
     "execution_count": 48,
     "metadata": {},
     "output_type": "execute_result"
    }
   ],
   "source": [
    "np.repeat(2,3,axis=0)"
   ]
  },
  {
   "cell_type": "code",
   "execution_count": null,
   "metadata": {
    "collapsed": true
   },
   "outputs": [],
   "source": [
    "(2, 3)"
   ]
  },
  {
   "cell_type": "code",
   "execution_count": null,
   "metadata": {
    "collapsed": true
   },
   "outputs": [],
   "source": [
    "(2, 3)"
   ]
  },
  {
   "cell_type": "code",
   "execution_count": null,
   "metadata": {
    "collapsed": true
   },
   "outputs": [],
   "source": [
    "# generating channel-to-group pointers 'c2g'. This is essentially the 'edges' in a graph\n",
    "def c2g(S,sep):\n",
    "    # input S is a pandas series, sep is the separater used to split string\n",
    "    for i,s in enumerate(S):\n",
    "        if s:\n",
    "            gl = s.split(';')  # gl --  group list\n",
    "            n  = len(gl)\n",
    "            for g in gl:\n",
    "                find gl in groupinfo\n",
    "            data.frame(cbind(rep(i,n), index_list_g))\n",
    "            attach zip to the end of a data frame \n",
    "    return data frame\n",
    "            \n"
   ]
  },
  {
   "cell_type": "code",
   "execution_count": 60,
   "metadata": {},
   "outputs": [
    {
     "name": "stdout",
     "output_type": "stream",
     "text": [
      "subfolder    object\n",
      "thumbnail    object\n",
      "teamname     object\n",
      "nmembers     object\n",
      "dtype: object\n",
      "            subfolder                 thumbnail    teamname   nmembers\n",
      "count            2141                      2141        2141       2141\n",
      "unique           2141                      1517        2127         61\n",
      "top     /team/badidea  /theme/images/avatar.png  Green Team  1 members\n",
      "freq                1                       625           2        818\n"
     ]
    },
    {
     "data": {
      "text/html": [
       "<div>\n",
       "<table border=\"1\" class=\"dataframe\">\n",
       "  <thead>\n",
       "    <tr style=\"text-align: right;\">\n",
       "      <th></th>\n",
       "      <th>subfolder</th>\n",
       "      <th>thumbnail</th>\n",
       "      <th>teamname</th>\n",
       "      <th>nmembers</th>\n",
       "    </tr>\n",
       "  </thead>\n",
       "  <tbody>\n",
       "    <tr>\n",
       "      <th>0</th>\n",
       "      <td>/team/hardrandom</td>\n",
       "      <td>https://static-cdn.jtvnw.net/jtv_user_pictures...</td>\n",
       "      <td>Hard Random</td>\n",
       "      <td>1 members</td>\n",
       "    </tr>\n",
       "    <tr>\n",
       "      <th>1</th>\n",
       "      <td>/team/virtuous</td>\n",
       "      <td>https://static-cdn.jtvnw.net/jtv_user_pictures...</td>\n",
       "      <td>Virtuous</td>\n",
       "      <td>1 members</td>\n",
       "    </tr>\n",
       "    <tr>\n",
       "      <th>2</th>\n",
       "      <td>/team/geekgamertv</td>\n",
       "      <td>https://static-cdn.jtvnw.net/jtv_user_pictures...</td>\n",
       "      <td>GeekGamer.TV</td>\n",
       "      <td>1 members</td>\n",
       "    </tr>\n",
       "    <tr>\n",
       "      <th>3</th>\n",
       "      <td>/team/pbwgaming</td>\n",
       "      <td>/theme/images/avatar.png</td>\n",
       "      <td>PBW Gaming</td>\n",
       "      <td>1 members</td>\n",
       "    </tr>\n",
       "    <tr>\n",
       "      <th>4</th>\n",
       "      <td>/team/slinkies</td>\n",
       "      <td>https://static-cdn.jtvnw.net/jtv_user_pictures...</td>\n",
       "      <td>The Slinkies</td>\n",
       "      <td>1 members</td>\n",
       "    </tr>\n",
       "  </tbody>\n",
       "</table>\n",
       "</div>"
      ],
      "text/plain": [
       "           subfolder                                          thumbnail  \\\n",
       "0   /team/hardrandom  https://static-cdn.jtvnw.net/jtv_user_pictures...   \n",
       "1     /team/virtuous  https://static-cdn.jtvnw.net/jtv_user_pictures...   \n",
       "2  /team/geekgamertv  https://static-cdn.jtvnw.net/jtv_user_pictures...   \n",
       "3    /team/pbwgaming                           /theme/images/avatar.png   \n",
       "4     /team/slinkies  https://static-cdn.jtvnw.net/jtv_user_pictures...   \n",
       "\n",
       "       teamname   nmembers  \n",
       "0   Hard Random  1 members  \n",
       "1      Virtuous  1 members  \n",
       "2  GeekGamer.TV  1 members  \n",
       "3    PBW Gaming  1 members  \n",
       "4  The Slinkies  1 members  "
      ]
     },
     "execution_count": 60,
     "metadata": {},
     "output_type": "execute_result"
    }
   ],
   "source": [
    "print teams.dtypes\n",
    "print teams.describe()\n",
    "teams.head()"
   ]
  },
  {
   "cell_type": "code",
   "execution_count": 61,
   "metadata": {},
   "outputs": [
    {
     "name": "stdout",
     "output_type": "stream",
     "text": [
      "team_created_date        object\n",
      "subfolder_ls            float64\n",
      "team_unique_id            int64\n",
      "team_updated_date        object\n",
      "team_members_ls          object\n",
      "nfollowers_member_ls    float64\n",
      "twitch_url               object\n",
      "team_name                object\n",
      "page_url                 object\n",
      "dtype: object\n",
      "       subfolder_ls  team_unique_id  nfollowers_member_ls\n",
      "count           0.0     2139.000000                   0.0\n",
      "mean            NaN     2134.845722                   NaN\n",
      "std             NaN     1068.128161                   NaN\n",
      "min             NaN        1.000000                   NaN\n",
      "25%             NaN     1269.000000                   NaN\n",
      "50%             NaN     2226.000000                   NaN\n",
      "75%             NaN     3051.500000                   NaN\n",
      "max             NaN     4010.000000                   NaN\n"
     ]
    },
    {
     "data": {
      "text/html": [
       "<div>\n",
       "<table border=\"1\" class=\"dataframe\">\n",
       "  <thead>\n",
       "    <tr style=\"text-align: right;\">\n",
       "      <th></th>\n",
       "      <th>team_created_date</th>\n",
       "      <th>subfolder_ls</th>\n",
       "      <th>team_unique_id</th>\n",
       "      <th>team_updated_date</th>\n",
       "      <th>team_members_ls</th>\n",
       "      <th>nfollowers_member_ls</th>\n",
       "      <th>twitch_url</th>\n",
       "      <th>team_name</th>\n",
       "      <th>page_url</th>\n",
       "    </tr>\n",
       "  </thead>\n",
       "  <tbody>\n",
       "    <tr>\n",
       "      <th>0</th>\n",
       "      <td>February 22, 2015, 19:45 GMT+0000</td>\n",
       "      <td>NaN</td>\n",
       "      <td>1862</td>\n",
       "      <td>February 23, 2015, 20:28 GMT+0000</td>\n",
       "      <td>NaN</td>\n",
       "      <td>NaN</td>\n",
       "      <td>https://www.twitch.tv/team/hardrandom</td>\n",
       "      <td>Hard Random</td>\n",
       "      <td>https://www.twitchtools.com/team/hardrandom</td>\n",
       "    </tr>\n",
       "    <tr>\n",
       "      <th>1</th>\n",
       "      <td>May 8, 2014, 11:14 GMT+0000</td>\n",
       "      <td>NaN</td>\n",
       "      <td>1160</td>\n",
       "      <td>June 25, 2014, 00:12 GMT+0000</td>\n",
       "      <td>NaN</td>\n",
       "      <td>NaN</td>\n",
       "      <td>https://www.twitch.tv/team/virtuous</td>\n",
       "      <td>Virtuous</td>\n",
       "      <td>https://www.twitchtools.com/team/virtuous</td>\n",
       "    </tr>\n",
       "    <tr>\n",
       "      <th>2</th>\n",
       "      <td>March 11, 2014, 19:09 GMT+0000</td>\n",
       "      <td>NaN</td>\n",
       "      <td>1037</td>\n",
       "      <td>February 17, 2015, 03:34 GMT+0000</td>\n",
       "      <td>Original_Gamester</td>\n",
       "      <td>NaN</td>\n",
       "      <td>https://www.twitch.tv/team/geekgamertv</td>\n",
       "      <td>GeekGamer.TV</td>\n",
       "      <td>https://www.twitchtools.com/team/geekgamertv</td>\n",
       "    </tr>\n",
       "    <tr>\n",
       "      <th>3</th>\n",
       "      <td>August 16, 2015, 16:46 GMT+0000</td>\n",
       "      <td>NaN</td>\n",
       "      <td>2307</td>\n",
       "      <td>August 17, 2015, 13:13 GMT+0000</td>\n",
       "      <td>PvtWiggles</td>\n",
       "      <td>NaN</td>\n",
       "      <td>https://www.twitch.tv/team/pbwgaming</td>\n",
       "      <td>PBW Gaming</td>\n",
       "      <td>https://www.twitchtools.com/team/pbwgaming</td>\n",
       "    </tr>\n",
       "    <tr>\n",
       "      <th>4</th>\n",
       "      <td>February 11, 2015, 06:33 GMT+0000</td>\n",
       "      <td>NaN</td>\n",
       "      <td>1827</td>\n",
       "      <td>October 4, 2015, 20:27 GMT+0000</td>\n",
       "      <td>Slinned</td>\n",
       "      <td>NaN</td>\n",
       "      <td>https://www.twitch.tv/team/slinkies</td>\n",
       "      <td>The Slinkies</td>\n",
       "      <td>https://www.twitchtools.com/team/slinkies</td>\n",
       "    </tr>\n",
       "  </tbody>\n",
       "</table>\n",
       "</div>"
      ],
      "text/plain": [
       "                   team_created_date  subfolder_ls  team_unique_id  \\\n",
       "0  February 22, 2015, 19:45 GMT+0000           NaN            1862   \n",
       "1        May 8, 2014, 11:14 GMT+0000           NaN            1160   \n",
       "2     March 11, 2014, 19:09 GMT+0000           NaN            1037   \n",
       "3    August 16, 2015, 16:46 GMT+0000           NaN            2307   \n",
       "4  February 11, 2015, 06:33 GMT+0000           NaN            1827   \n",
       "\n",
       "                   team_updated_date    team_members_ls  nfollowers_member_ls  \\\n",
       "0  February 23, 2015, 20:28 GMT+0000                NaN                   NaN   \n",
       "1      June 25, 2014, 00:12 GMT+0000                NaN                   NaN   \n",
       "2  February 17, 2015, 03:34 GMT+0000  Original_Gamester                   NaN   \n",
       "3    August 17, 2015, 13:13 GMT+0000         PvtWiggles                   NaN   \n",
       "4    October 4, 2015, 20:27 GMT+0000            Slinned                   NaN   \n",
       "\n",
       "                               twitch_url     team_name  \\\n",
       "0   https://www.twitch.tv/team/hardrandom   Hard Random   \n",
       "1     https://www.twitch.tv/team/virtuous      Virtuous   \n",
       "2  https://www.twitch.tv/team/geekgamertv  GeekGamer.TV   \n",
       "3    https://www.twitch.tv/team/pbwgaming    PBW Gaming   \n",
       "4     https://www.twitch.tv/team/slinkies  The Slinkies   \n",
       "\n",
       "                                       page_url  \n",
       "0   https://www.twitchtools.com/team/hardrandom  \n",
       "1     https://www.twitchtools.com/team/virtuous  \n",
       "2  https://www.twitchtools.com/team/geekgamertv  \n",
       "3    https://www.twitchtools.com/team/pbwgaming  \n",
       "4     https://www.twitchtools.com/team/slinkies  "
      ]
     },
     "execution_count": 61,
     "metadata": {},
     "output_type": "execute_result"
    }
   ],
   "source": [
    "print teamsinfo.dtypes\n",
    "print teamsinfo.describe()\n",
    "teamsinfo.head()"
   ]
  },
  {
   "cell_type": "code",
   "execution_count": 13,
   "metadata": {},
   "outputs": [
    {
     "data": {
      "text/plain": [
       "14454"
      ]
     },
     "execution_count": 13,
     "metadata": {},
     "output_type": "execute_result"
    }
   ],
   "source": [
    "len(channels['subfolder'])"
   ]
  },
  {
   "cell_type": "code",
   "execution_count": 14,
   "metadata": {},
   "outputs": [
    {
     "ename": "NameError",
     "evalue": "name 'subpath' is not defined",
     "output_type": "error",
     "traceback": [
      "\u001b[0;31m---------------------------------------------------------------------------\u001b[0m",
      "\u001b[0;31mNameError\u001b[0m                                 Traceback (most recent call last)",
      "\u001b[0;32m<ipython-input-14-967181cbcc92>\u001b[0m in \u001b[0;36m<module>\u001b[0;34m()\u001b[0m\n\u001b[0;32m----> 1\u001b[0;31m \u001b[0msubpath\u001b[0m\u001b[0;34m\u001b[0m\u001b[0m\n\u001b[0m",
      "\u001b[0;31mNameError\u001b[0m: name 'subpath' is not defined"
     ]
    }
   ],
   "source": [
    "subpath"
   ]
  },
  {
   "cell_type": "code",
   "execution_count": 15,
   "metadata": {},
   "outputs": [
    {
     "ename": "NameError",
     "evalue": "name 'subpath' is not defined",
     "output_type": "error",
     "traceback": [
      "\u001b[0;31m---------------------------------------------------------------------------\u001b[0m",
      "\u001b[0;31mNameError\u001b[0m                                 Traceback (most recent call last)",
      "\u001b[0;32m<ipython-input-15-4a5922a1bcd9>\u001b[0m in \u001b[0;36m<module>\u001b[0;34m()\u001b[0m\n\u001b[0;32m----> 1\u001b[0;31m \u001b[0murls\u001b[0m \u001b[0;34m=\u001b[0m \u001b[0;34m'https://www.twitchtools.com'\u001b[0m \u001b[0;34m+\u001b[0m \u001b[0msubpath\u001b[0m\u001b[0;34m\u001b[0m\u001b[0m\n\u001b[0m",
      "\u001b[0;31mNameError\u001b[0m: name 'subpath' is not defined"
     ]
    }
   ],
   "source": [
    "urls = 'https://www.twitchtools.com' + subpath"
   ]
  },
  {
   "cell_type": "code",
   "execution_count": 16,
   "metadata": {},
   "outputs": [
    {
     "ename": "NameError",
     "evalue": "name 'urls' is not defined",
     "output_type": "error",
     "traceback": [
      "\u001b[0;31m---------------------------------------------------------------------------\u001b[0m",
      "\u001b[0;31mNameError\u001b[0m                                 Traceback (most recent call last)",
      "\u001b[0;32m<ipython-input-16-fd4dbb4faf61>\u001b[0m in \u001b[0;36m<module>\u001b[0;34m()\u001b[0m\n\u001b[0;32m----> 1\u001b[0;31m \u001b[0mtype\u001b[0m\u001b[0;34m(\u001b[0m\u001b[0murls\u001b[0m\u001b[0;34m)\u001b[0m\u001b[0;34m\u001b[0m\u001b[0m\n\u001b[0m",
      "\u001b[0;31mNameError\u001b[0m: name 'urls' is not defined"
     ]
    }
   ],
   "source": [
    "type(urls)"
   ]
  },
  {
   "cell_type": "code",
   "execution_count": 17,
   "metadata": {
    "collapsed": true
   },
   "outputs": [],
   "source": [
    "import scrapy\n",
    "import pandas as pd\n",
    "from twitchtest.items import TwitchChannelInfoItem\n",
    "\n",
    "# channel subfolder paths have been scraped from the twitchtest_spider, and saved in a csv file\n",
    "# here we read in the csv file, assemble the full urls, and loop over them\n",
    "\n",
    "class TwitchChannelInfoUrlsPrep():\n",
    "    def __init__(self):\n",
    "        pass\n",
    "\n",
    "    def prep_urls(self):\n",
    "        with open(\"twitchtools_channels.csv\", \"r\") as f:\n",
    "            channels = pd.read_csv(f)\n",
    "        urls = 'https://www.twitchtools.com' + channels['subfolder']      # pandas.core.series.Series\n",
    "        # urls = list('https://www.twitchtools.com' + channels['subfolder']) # list\n",
    "        return urls"
   ]
  },
  {
   "cell_type": "code",
   "execution_count": 18,
   "metadata": {
    "collapsed": true
   },
   "outputs": [],
   "source": [
    "start_urls = TwitchChannelInfoUrlsPrep().prep_urls()"
   ]
  },
  {
   "cell_type": "code",
   "execution_count": 19,
   "metadata": {},
   "outputs": [
    {
     "data": {
      "text/plain": [
       "14454"
      ]
     },
     "execution_count": 19,
     "metadata": {},
     "output_type": "execute_result"
    }
   ],
   "source": [
    "len(start_urls)"
   ]
  },
  {
   "cell_type": "code",
   "execution_count": 20,
   "metadata": {},
   "outputs": [
    {
     "data": {
      "text/plain": [
       "pandas.core.series.Series"
      ]
     },
     "execution_count": 20,
     "metadata": {},
     "output_type": "execute_result"
    }
   ],
   "source": [
    "type(start_urls)"
   ]
  },
  {
   "cell_type": "code",
   "execution_count": 21,
   "metadata": {},
   "outputs": [
    {
     "data": {
      "text/plain": [
       "'https://www.twitchtools.com/channel/mirage720'"
      ]
     },
     "execution_count": 21,
     "metadata": {},
     "output_type": "execute_result"
    }
   ],
   "source": [
    "start_urls[2]"
   ]
  },
  {
   "cell_type": "code",
   "execution_count": 22,
   "metadata": {
    "collapsed": true
   },
   "outputs": [],
   "source": [
    "import pandas as pd\n",
    "#import json\n",
    "\n",
    "with open(\"twitchtools_teamsinfo.csv\", \"r\") as f:\n",
    "    #teamsinfo = pd.read_json(f)\n",
    "    teamsinfo = pd.read_csv(f)"
   ]
  },
  {
   "cell_type": "code",
   "execution_count": 23,
   "metadata": {},
   "outputs": [
    {
     "ename": "NameError",
     "evalue": "name 'summary' is not defined",
     "output_type": "error",
     "traceback": [
      "\u001b[0;31m---------------------------------------------------------------------------\u001b[0m",
      "\u001b[0;31mNameError\u001b[0m                                 Traceback (most recent call last)",
      "\u001b[0;32m<ipython-input-23-097b44f39c0d>\u001b[0m in \u001b[0;36m<module>\u001b[0;34m()\u001b[0m\n\u001b[0;32m----> 1\u001b[0;31m \u001b[0msummary\u001b[0m\u001b[0;34m(\u001b[0m\u001b[0mteamsinfo\u001b[0m\u001b[0;34m)\u001b[0m\u001b[0;34m\u001b[0m\u001b[0m\n\u001b[0m",
      "\u001b[0;31mNameError\u001b[0m: name 'summary' is not defined"
     ]
    }
   ],
   "source": [
    "summary(teamsinfo)"
   ]
  },
  {
   "cell_type": "code",
   "execution_count": 24,
   "metadata": {},
   "outputs": [
    {
     "data": {
      "text/plain": [
       "0                                                     NaN\n",
       "1                                                     NaN\n",
       "2                                       Original_Gamester\n",
       "3                                              PvtWiggles\n",
       "4                                                 Slinned\n",
       "5                                                  Patron\n",
       "6                                        LaChevre_MasqueR\n",
       "7                                                   Brian\n",
       "8                                                     NaN\n",
       "9                                                 TViSamy\n",
       "10                                          Megaultrajman\n",
       "11                                              Dakillzor\n",
       "12                                                 アフロマスク\n",
       "13                                          sharyl_sykora\n",
       "14                                              Caprimint\n",
       "15                                                Ardashe\n",
       "16                                           DinahThatsMe\n",
       "17                                                   evac\n",
       "18                                          BattleAthlete\n",
       "19                                              MarenAune\n",
       "20                                                Kleetho\n",
       "21                                     CogumelandoOficial\n",
       "22                                              ufotekkie\n",
       "23                                                    NaN\n",
       "24                                                    NaN\n",
       "25                                               NotJuves\n",
       "26                                                Hudsonz\n",
       "27                                                 civila\n",
       "28                                               GarenaTW\n",
       "29                                                 KyleKy\n",
       "                              ...                        \n",
       "2109    Crumps2;ElvineMod;GameJ06;Geoff;GoronGuy;HimeC...\n",
       "2110    Ltzonda;EpicSenseney;MushmouthGaming;Mhoku;Val...\n",
       "2111    5upamayne;Adam_AK;Cirno_TV;EnNopp112;Geoff;Go1...\n",
       "2112    Devaxes;inetkoxTV;JunajtedFIFA;Brunecia;SouShi...\n",
       "2113    EatMyDiction1;Ezekiel_III;GassyMexican;Geoff;l...\n",
       "2114    ElvineMod;GoronGuy;lolRenaynay;scarfino;sheeve...\n",
       "2115    Gringovich;Sibrel;MissFritza;Epsyloncat;Cherri...\n",
       "2116    MegnaGaming;King_Foom;TwoAngryGamersTV;Valon22...\n",
       "2117    DatModz;Sour Not Hardcore;StreamerHouse;Kreyg;...\n",
       "2118    Aureylian;djWHEAT;Glacials;Gringovich;FireBall...\n",
       "2119    Jooygirl;lolRenaynay;TheNoosh22;MissKyliee;Ser...\n",
       "2120    markeloff_csgo;kennyS;ESEA;FACEIT TV;ESL_CSGO;...\n",
       "2121    BASETRADETV;KYAN1TE;joinDOTARed;esl_striimit;T...\n",
       "2122    linneafly;Swebliss;MissKyliee;brialeigh;MissCo...\n",
       "2123    Oshi7;Sacriel;SilentSentry;GoldGlove;Fairlight...\n",
       "2124    Adam_AK;Spikevegeta;XeroKynos;ProfessorBroman;...\n",
       "2125    Affinity;CinCinBear;ElvineMod;Ezekiel_III;Gian...\n",
       "2126    Scrubing;MushmouthGaming;Vio;camcorderkid87;Pr...\n",
       "2127    JoeNeverFails;Lantheos;littlesiha;FEIDIANJUN;R...\n",
       "2128    EatMyDiction1;MontanaBlack88;Oshi7;DasValdez;T...\n",
       "2129    EatMyDiction1;Ezekiel_III;itmeJP;Jacklifear;Jo...\n",
       "2130    esl_striimit;esl_csgo_pl;ESL_CSGO;ESL_LOL;ESL_...\n",
       "2131    GameJ06;WhenChukAttacks;feasel;TheMexicanRunne...\n",
       "2132    Ysangwen;Krayn_Live;mistermv;Kenb0gard;jvtv;GL...\n",
       "2133    BlackOutGamingTV;teamfortresstv;b4nny;stabbyst...\n",
       "2134    Adam_AK;EnNopp112;GameJ06;GoronGuy;Joshimuz;Xe...\n",
       "2135    Cryaotic;EatMyDiction1;JayEx23;Sacriel;theD20;...\n",
       "2136    ElvineMod;Lilboicc;Psynaps;Valon22;Deadlyslob;...\n",
       "2137    8WAYRUN;bifuteki;Cafeid;CapcomFighters;FgtvLiv...\n",
       "2138    Cirno_TV;EnNopp112;Spikevegeta;Stivitybobo;Tha...\n",
       "Name: team_members_ls, dtype: object"
      ]
     },
     "execution_count": 24,
     "metadata": {},
     "output_type": "execute_result"
    }
   ],
   "source": [
    "teamsinfo['team_members_ls']"
   ]
  },
  {
   "cell_type": "code",
   "execution_count": null,
   "metadata": {
    "collapsed": true
   },
   "outputs": [],
   "source": []
  },
  {
   "cell_type": "code",
   "execution_count": null,
   "metadata": {
    "collapsed": true
   },
   "outputs": [],
   "source": []
  }
 ],
 "metadata": {
  "kernelspec": {
   "display_name": "Python 2",
   "language": "python",
   "name": "python2"
  },
  "language_info": {
   "codemirror_mode": {
    "name": "ipython",
    "version": 2
   },
   "file_extension": ".py",
   "mimetype": "text/x-python",
   "name": "python",
   "nbconvert_exporter": "python",
   "pygments_lexer": "ipython2",
   "version": "2.7.13"
  }
 },
 "nbformat": 4,
 "nbformat_minor": 2
}
